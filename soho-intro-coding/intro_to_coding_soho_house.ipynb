{
 "cells": [
  {
   "cell_type": "markdown",
   "metadata": {
    "slideshow": {
     "slide_type": "slide"
    }
   },
   "source": [
    "<br>\n",
    "<link href=\"https://fonts.googleapis.com/css?family=Montserrat\" rel=\"stylesheet\">\n",
    "<h1 style=\"text-align: center; font: font-family: 'Montserrat', sans-serif;\"> Soho House Chicago</h1>\n",
    "<h1 style=\"text-align: center\">Let's Learn to Code: Introduction to Python 3</h1>\n",
    "<p style=\"text-align: center\">Slides at: http://bit.ly/soho-intro-to-code</p>\n",
    "<br>\n",
    "<br>\n",
    "<br>\n",
    "\n",
    "<img src='Python3-powered_hello-world.png' style='display: block;\n",
    "    margin: 0 auto;'/>\n",
    "\n",
    "<br>\n",
    "<br>\n",
    "<br>"
   ]
  },
  {
   "cell_type": "markdown",
   "metadata": {
    "slideshow": {
     "slide_type": "slide"
    }
   },
   "source": [
    "### Today's Agenda\n",
    "\n",
    "- What is code?\n",
    "- A history of Python (or rather, why Python?)\n",
    "- Examples of Python in use\n",
    "- Python data structures, syntax, and control flow\n",
    "- Python modules\n",
    "- Python demo: Using Python to pull data down from Twitter API!\n",
    "- Resources to learn Python"
   ]
  },
  {
   "cell_type": "markdown",
   "metadata": {
    "slideshow": {
     "slide_type": "slide"
    }
   },
   "source": [
    "#### What is code?\n",
    "\n",
    "When we talk about computer code, we are talking about the written instructions that tell a computer how to do a thing. \n",
    "\n",
    "These instructions we call \"algorithms\". \n",
    "\n",
    "For example - what happens when you wake up in the morning?\n"
   ]
  },
  {
   "cell_type": "markdown",
   "metadata": {
    "slideshow": {
     "slide_type": "subslide"
    }
   },
   "source": [
    "```\n",
    "MAX_RINGS = 4\n",
    "\n",
    "\n",
    "IF ALARM IS RINGING:\n",
    "    FOR TIME IN RANGE(1, 3):\n",
    "        SNOOZE\n",
    "\n",
    "\n",
    "IF ALARM RINGS > MAX_RINGS:\n",
    "    WAKE_UP(SPEED=SLOWLY)\n",
    "    SHOWER(TIME=20)  \n",
    "    EAT(FOOD=[‘BANANAS’, ‘GRANOLA’, ‘YOGURT’])\n",
    "```"
   ]
  },
  {
   "cell_type": "markdown",
   "metadata": {
    "slideshow": {
     "slide_type": "slide"
    }
   },
   "source": [
    "### Greetings, I'm Lorena Mesa!\n",
    "\n",
    "<br><br><br>\n",
    "<img src='bio_slide.png' style='display: block;\n",
    "    margin: 0 auto;'/>"
   ]
  },
  {
   "cell_type": "markdown",
   "metadata": {
    "slideshow": {
     "slide_type": "slide"
    }
   },
   "source": [
    "### As a software engineer, I write programs ('algorithms') for (General Purpose) computers\n",
    "\n",
    "![ENIANC](eniac.jpg)\n",
    "\n",
    "ENIAC, a secret WWII project, was the first general purpose digital computer"
   ]
  },
  {
   "cell_type": "markdown",
   "metadata": {
    "slideshow": {
     "slide_type": "slide"
    }
   },
   "source": [
    "### Personal Computer of Today\n",
    "\n",
    "The general purpose personal computers of today run using an operating system like: Mac OSX, Linux, Windows\n",
    "\n",
    "The operating system is the software, the computer itself is the hardware. Software engineers write the code that makes up the software!\n",
    "\n",
    "![PC](pc.jpg)\n"
   ]
  },
  {
   "cell_type": "markdown",
   "metadata": {
    "slideshow": {
     "slide_type": "subslide"
    }
   },
   "source": [
    "### How does the internet work?\n",
    "\n",
    "[![How does the internet work](https://img.youtube.com/vi/oj7A2YDgIWE/0.jpg)](https://www.youtube.com/watch?v=oj7A2YDgIWE) "
   ]
  },
  {
   "cell_type": "markdown",
   "metadata": {
    "slideshow": {
     "slide_type": "slide"
    }
   },
   "source": [
    "### Netherlands, 1989\n",
    "\n",
    "<img src='https://upload.wikimedia.org/wikipedia/en/2/25/PythonProgLogo.png' style='display: block;\n",
    "    margin: 0 auto;'/>\n",
    "\n",
    "*Python development began in December 1989 by Guido van Rossum, the Benevolent Dictator for Life (BDFL), as a successor for the ABC programming language*\n",
    "\n",
    "*Name comes from Monty Python's Flying Circus*\n",
    "\n",
    "#### \"Python is an experiment in how much freedom programmers need. Too much freedom and nobody can read another's code; too little and expressiveness is endangered\" - Guido van Rossum\n",
    "\n",
    "<img src='guido_with_a_python.jpg' style='display: block;\n",
    "    margin: 0 auto; height: 400px;'/>\n"
   ]
  },
  {
   "cell_type": "markdown",
   "metadata": {
    "slideshow": {
     "slide_type": "slide"
    }
   },
   "source": [
    "### Where is Python used?\n",
    "\n",
    "Python is used many places, such as:\n",
    "- Instagram\n",
    "- YouTube\n",
    "- Shopzilla\n"
   ]
  },
  {
   "cell_type": "markdown",
   "metadata": {
    "slideshow": {
     "slide_type": "slide"
    }
   },
   "source": [
    "### Python Usage\n",
    "\n",
    "Fun Fact: UC @ San Diego Asst Professor of Cognitive Science Philip Guo found that *Python is the most common taught languges by computer science departments!* \n",
    "\n",
    "As of in July 2014 [8 of the top 10](http://cacm.acm.org/blogs/blog-cacm/176450-python-is-now-the-most-popular-introductory-teaching-language-at-top-us-universities/fulltext) USA computer science departments use Python for their introduction classes\n",
    "\n",
    "![python_chart.png](python_chart.png)"
   ]
  },
  {
   "cell_type": "markdown",
   "metadata": {
    "slideshow": {
     "slide_type": "slide"
    }
   },
   "source": [
    "### Why should I start with Python 3?\n",
    "\n",
    "Python 2.7 will be officially supported until 2020 however the only updates you'll see for Python 2.7 includes:\n",
    "\n",
    "- Minor security fixes\n",
    "- Support for new OS versions / tool chains\n",
    "\n",
    "Want updates? Check out [Python Clock](http://pythonclock.org)\n",
    "\n",
    "Guido at [PyCon 2016 keynote]([https://youtu.be/YgtL4S7Hrwo](Guido PyCon 2016 Keynote)\n",
    ") said there will be an \"official end of Python 2.7 party at PyCon 2020\""
   ]
  },
  {
   "cell_type": "markdown",
   "metadata": {
    "slideshow": {
     "slide_type": "subslide"
    }
   },
   "source": [
    "It is widely used in:\n",
    "- Education e.g. Raspberry Pi, MicroBit\n",
    "- Web development e.g. Django, Flask, Falcon\n",
    "- Academics + Science -- Python used to help detect the first [gravitational waves](https://www.ligo.caltech.edu/news/ligo20160211)!) \n",
    "- Data science e.g. Pandas, NumPY\n",
    "- Civic tech -- I used Python at Obama for America for data munging! For more examples of Python at OFA you can check this article out [here](http://arstechnica.com/information-technology/2012/11/built-to-win-deep-inside-obamas-campaign-tech/)."
   ]
  },
  {
   "cell_type": "markdown",
   "metadata": {
    "slideshow": {
     "slide_type": "slide"
    }
   },
   "source": [
    "### Typing your first Python 3 command\n",
    "\n",
    "Python is a(n):\n",
    "\n",
    "- Interpreted language *We use the Python interpreter to run Python programs, not a compiler like in Java!*\n",
    "- Dynamic language\n",
    "- Strongly typed\n",
    "\n",
    "<br>\n",
    "\n",
    "**What does this mean?**\n",
    "\n",
    "- Types in Python are tracked, only specific methods word on specific objects (e.g. `isinstance()`)\n",
    "- Python however does not restrict the type a variable may have\n",
    "\n",
    "For mor information on why Python is a dynamic language yet strongly typed read [here](https://wiki.python.org/moin/Why%20is%20Python%20a%20dynamic%20language%20and%20also%20a%20strongly%20typed%20language)"
   ]
  },
  {
   "cell_type": "code",
   "execution_count": 2,
   "metadata": {
    "collapsed": false,
    "slideshow": {
     "slide_type": "subslide"
    }
   },
   "outputs": [
    {
     "name": "stdout",
     "output_type": "stream",
     "text": [
      "Hello world!!!!!!!!!\n"
     ]
    }
   ],
   "source": [
    "# my_name = \"Lorena\"\n",
    "# print(my_name * 3)  # Math operators like multiplication works differently for string vs. numbers \n",
    "# my_height = 66\n",
    "# print(my_height / 12)\n",
    "\n",
    "\n",
    "# my_height = \"sixty-six\"\n",
    "# print(my_height * 3)\n",
    "\n",
    "print(\"Hello world!!!!!!!!!\")\n",
    "\n"
   ]
  },
  {
   "cell_type": "markdown",
   "metadata": {
    "slideshow": {
     "slide_type": "slide"
    }
   },
   "source": [
    "### Installing Python 3\n",
    "\n",
    "Python 2.7 comes installed on Mac machines, you could use this but remember Python 2.7.\n",
    "To install Python 3 go to python.org and follow [download](https://www.python.org/downloads/) instructions\n",
    "\n",
    "For those of you who want 1+ versions of Python on your machine you can:\n",
    "- [Alias](https://www.youtube.com/watch?v=IX6mc9l6tY4) Python 3 to `python3` for a global installation with tools like [Homebrew](http://blog.manbolo.com/2013/02/04/how-to-install-python-3-and-pydev-on-osx)\n",
    "- Use `virtualenv` - a nifty tool to [create environments](http://stackoverflow.com/questions/23842713/using-python-3-in-virtualenv) for each Python project.\n",
    "\n",
    "There are, however, great tools online to begin working with Python 3:\n",
    "- [repl.it](http://repl.it)\n",
    "- [CoderPad](http://coderpad.io)\n",
    "- [Cloud 9](http://c9.io)"
   ]
  },
  {
   "cell_type": "markdown",
   "metadata": {
    "slideshow": {
     "slide_type": "slide"
    }
   },
   "source": [
    "<br>\n",
    "<h1 style=\"text-align: center\">TODO: Install Python 3 + Text Editor (if you don't have one try <a href='https://www.sublimetext.com/3'>Sublime 3</a>)!</h1>\n",
    "<h5 style=\"text-align: center\">Or if you don't have a computer, explore one of the online Python REPLs.</h5>\n",
    "<br>\n",
    "\n",
    "<img src='frustrated.jpg' style='display: block;\n",
    "    margin: 0 auto;'/>"
   ]
  },
  {
   "cell_type": "markdown",
   "metadata": {
    "slideshow": {
     "slide_type": "slide"
    }
   },
   "source": [
    "<br>\n",
    "<h1 style=\"text-align: center\">Python Syntax</h1>"
   ]
  },
  {
   "cell_type": "markdown",
   "metadata": {
    "slideshow": {
     "slide_type": "slide"
    }
   },
   "source": [
    "#### Notes on Code Snippets + Exercises\n",
    "\n",
    "As we continue through the rest of the tutorial, we'll either explicity break for you to work on an excerise or there will be some code snippets for you to try out.\n",
    "\n",
    "To start open up the Python interpreter by typing `python` (or `python3` depending on how you did your install) in the terminal.\n",
    "\n",
    "You should see something like:\n",
    "\n",
    "```\n",
    "Python 3.5.2 (default, Jun 29 2016, 13:42:59)\n",
    "[GCC 4.2.1 Compatible Apple LLVM 7.0.2 (clang-700.1.81)] on darwin\n",
    "Type \"help\", \"copyright\", \"credits\" or \"license\" for more information.\n",
    ">>>\n",
    "```\n",
    "\n",
    "To leave the terminal you can type `exit()`"
   ]
  },
  {
   "cell_type": "markdown",
   "metadata": {
    "slideshow": {
     "slide_type": "subslide"
    }
   },
   "source": [
    "### Python Backus–Naur Form Notation\n",
    "\n",
    "```\n",
    "name      ::=  lc_letter (lc_letter | \"_\")*\n",
    "lc_letter ::=  \"a\"...\"z\"\n",
    "```\n",
    "\n",
    "\"The first line says that a name is an `lc_letter` followed by a sequence of zero or more `lc_letters` and underscores. An `lc_letter` in turn is any of the single characters 'a' through 'z'. (This rule is actually adhered to for the names defined in lexical and grammar rules in this document.)\n",
    "\n",
    "Each rule begins with a name (which is the name defined by the rule) and ::=. A vertical bar (|) is used to separate alternatives; it is the least binding operator in this notation. A star (*) means zero or more repetitions of the preceding item; likewise, a plus (+) means one or more repetitions, and a phrase enclosed in square brackets ([ ]) means zero or one occurrences (in other words, the enclosed phrase is optional). The * and + operators bind as tightly as possible; parentheses are used for grouping. Literal strings are enclosed in quotes. White space is only meaningful to separate tokens. Rules are normally contained on a single line; rules with many alternatives may be formatted alternatively with each line after the first beginning with a vertical bar.\"\n",
    "\n",
    "Except from Python 3 Introduction [1.2 Notation](https://docs.python.org/3/reference/introduction.html)"
   ]
  },
  {
   "cell_type": "markdown",
   "metadata": {
    "slideshow": {
     "slide_type": "slide"
    }
   },
   "source": [
    "<br>\n",
    "<h1 style=\"text-align: center\">Put another way, we need to learn about different Python object types.</h1>\n"
   ]
  },
  {
   "cell_type": "markdown",
   "metadata": {
    "slideshow": {
     "slide_type": "subslide"
    }
   },
   "source": [
    "### Python Types\n",
    "\n",
    "Like with any programming language, we can use Python as a glorified calculator. Exciting? Not really. To do exciting thigns in Python we need to know a few basic object types to get started.\n",
    "\n",
    "####In Python, everything is an object. \n",
    "<br>\n",
    "**What is an object?** \n",
    "\n",
    "Python is an object-oriented programming languages. Objects use constructs called classes that let us organize our code into reusable chunks. Objects of the same class have the same type of behaviors and properties available.\n",
    "\n",
    "Let's start by looking at a few of the built-in Python types:\n",
    "* Float (`float`)\n",
    "* Integer (`int`)\n",
    "* String (`str`)\n",
    "* Boolean (`bool`)\n"
   ]
  },
  {
   "cell_type": "markdown",
   "metadata": {
    "slideshow": {
     "slide_type": "slide"
    }
   },
   "source": [
    "### Create your first `float`, `int`, `str`, `bool`\n",
    "\n",
    "- `float` are integers that include the decimal point\n",
    "- `int` are integers, whole numbers\n",
    "- `str` are used for alphanumeric text, special symbols, etc and are defined using a single quote or double quote exclusively\n",
    "- `bool` represent the values of true or false; these are case sensitive\n",
    "\n",
    "\n",
    "###TODO: Try it out!"
   ]
  },
  {
   "cell_type": "code",
   "execution_count": 11,
   "metadata": {
    "collapsed": false,
    "slideshow": {
     "slide_type": "subslide"
    }
   },
   "outputs": [
    {
     "name": "stdout",
     "output_type": "stream",
     "text": [
      "<class 'int'>\n",
      "<class 'float'>\n",
      "<class 'str'>\n",
      "<class 'bool'>\n"
     ]
    }
   ],
   "source": [
    "my_int = 123\n",
    "my_float = 1.0\n",
    "my_str = 'my_str'\n",
    "my_bool = False \n",
    "\n",
    "print(type(my_int))\n",
    "print(type(my_float))\n",
    "print(type(my_str))\n",
    "print(type(my_bool))"
   ]
  },
  {
   "cell_type": "markdown",
   "metadata": {
    "slideshow": {
     "slide_type": "subslide"
    }
   },
   "source": [
    "####Variables\n",
    "\n",
    "You can store your objects in variables for reuse by using the `=` assignment operator. Variables names by convention are lower case, use alphanumeric characters, and are snake_case.\n",
    "\n",
    "```\n",
    "x = 102398192038123\n",
    "my_large_value = 102398192038123\n",
    "```"
   ]
  },
  {
   "cell_type": "markdown",
   "metadata": {
    "slideshow": {
     "slide_type": "slide"
    }
   },
   "source": [
    "###Arithmetic \n",
    "\n",
    "TODO:\n",
    "\n",
    "- `3 * 3` \n",
    "- `3 * 'Python Jamaica'`\n",
    "- `9.20 * 3`\n",
    "- `True * True # Why do you think this value comes back?`\n",
    "- `3 + 2`\n",
    "- `'Greetings ' + 'Python Jamaica'`\n",
    "\n",
    "What happens when you:\n",
    "- Multiply an `int` and a `float`? \n",
    "- Multiply an `int` with an `int`?\n",
    "- Add two `str`? Add two `int`?\n",
    "\n",
    "What happens when:\n",
    "- Multiply a `str` with an `int`? What about a `str` with a `float`?\n"
   ]
  },
  {
   "cell_type": "markdown",
   "metadata": {
    "slideshow": {
     "slide_type": "subslide"
    }
   },
   "source": [
    "```\n",
    "(most recent call last):\n",
    "File \"<stdin>\", line 1, in <module>\n",
    "TypeError: can't multiply sequence by non-int of type 'float'```"
   ]
  },
  {
   "cell_type": "markdown",
   "metadata": {
    "slideshow": {
     "slide_type": "slide"
    }
   },
   "source": [
    "### Error Messages\n",
    "\n",
    "Learn to read your error messages. Like what we saw with the multiplying a `str` with a `float`, there are rules for how Python objects work together. We call this a `TypeError`.\n",
    "\n",
    "Another type of error message is a `SyntaxError`. For example if you try to define a `str` as:\n",
    "\n",
    "```\n",
    "my_name = 'Lorena\"\n",
    "\n",
    "  File \"<stdin>\", line 1\n",
    "    my_name = 'Lorena\"\n",
    "                     ^\n",
    "SyntaxError: EOL while scanning string literal\n",
    "```\n",
    "\n",
    "`TypeError` is a type of `Exception`. For more on errors you can read [here](https://docs.python.org/3/tutorial/errors.html)."
   ]
  },
  {
   "cell_type": "markdown",
   "metadata": {
    "slideshow": {
     "slide_type": "slide"
    }
   },
   "source": [
    "### Python Collections\n",
    "\n",
    "Say now we want to work with more than one object at a time, maybe we want to work a set of dates. Or collect information on dates. We can use Python's collection types to help us:\n"
   ]
  },
  {
   "cell_type": "code",
   "execution_count": 12,
   "metadata": {
    "collapsed": false,
    "slideshow": {
     "slide_type": "fragment"
    }
   },
   "outputs": [
    {
     "name": "stdout",
     "output_type": "stream",
     "text": [
      "<class 'list'>\n",
      "<class 'dict'>\n"
     ]
    }
   ],
   "source": [
    "my_date_list = ['01/01/2016', 1987, 'November 17']\n",
    "my_date_dict = {'november': 'noviembre', 'thursday': 'jueves'}\n",
    "\n",
    "print(type(my_date_list))\n",
    "print(type(my_date_dict))"
   ]
  },
  {
   "cell_type": "markdown",
   "metadata": {
    "slideshow": {
     "slide_type": "slide"
    }
   },
   "source": [
    "### Lists \n",
    "\n",
    "Python lists are precisely that, they're an ordered collection of objects. You can include objects of varying type in them as we saw above.\n",
    "\n",
    "To access an item in a list we will use it's index. Lists are zero-based so the first item is located at index 0.\n",
    "\n",
    "`print(my_date_list[0])`\n",
    "\n",
    "We can overwrite values in our list again with the `=` operator. \n",
    "\n",
    "TODO: Try this out\n",
    "- Create a list, add three grocery items to it\n",
    "- Overwrite a value somewhere in your list\n",
    "- Delete a grocery item from your list\n",
    "- Add a new grocery item to the list\n",
    "\n",
    "Python list documentation is found [here](https://docs.python.org/3.5/tutorial/datastructures.html)."
   ]
  },
  {
   "cell_type": "code",
   "execution_count": 4,
   "metadata": {
    "collapsed": false,
    "slideshow": {
     "slide_type": "subslide"
    }
   },
   "outputs": [
    {
     "name": "stdout",
     "output_type": "stream",
     "text": [
      "['corn tortillas', 'plantains', 'chicken']\n",
      "['corn tortillas', 'chicken']\n",
      "['corn tortillas', 'chicken', 'cilantro']\n"
     ]
    }
   ],
   "source": [
    "my_groceries = ['tortillas', 'plantains', 'chicken']\n",
    "my_groceries[0] = 'corn tortillas'\n",
    "print(my_groceries)\n",
    "my_groceries.pop(1)\n",
    "print(my_groceries)\n",
    "my_groceries.append('cilantro')\n",
    "print(my_groceries)"
   ]
  },
  {
   "cell_type": "markdown",
   "metadata": {
    "slideshow": {
     "slide_type": "slide"
    }
   },
   "source": [
    "### Dictionaries\n",
    "\n",
    "Now let's expand upon that previous grocery example. Often you want to know how many of an item to buy at the store. How can we represent this? We can use a dictionary.\n",
    "\n",
    "A dictionary is an unordered key-value data structure. We access elements by the key name.\n",
    "\n",
    "For example: `my_groceries['chicken']`\n",
    "\n",
    "Dictionaries are mutable like lists and can contain a variety of object types. You may not use a collection type as a key for a Python dictionary though.\n",
    "\n",
    "TODO: Try this out\n",
    "- Create a hash, add three grocery items to it with quantities\n",
    "- Overwrite a key somewhere in your hash\n",
    "- Update a value for a key somewhere in your hash\n",
    "- Delete a grocery item (key) from your hash\n",
    "- Add a new grocery item to the hash"
   ]
  },
  {
   "cell_type": "code",
   "execution_count": 7,
   "metadata": {
    "collapsed": false,
    "slideshow": {
     "slide_type": "subslide"
    }
   },
   "outputs": [
    {
     "name": "stdout",
     "output_type": "stream",
     "text": [
      "{'tortillas': 1, 0: 'corn tortillas', 'plantains': 5, 'chicken': 1}\n",
      "{'tortillas': 1, 0: 'corn tortillas', 'chicken': 1}\n",
      "{'tortillas': 1, 0: 'corn tortillas', 'cilantro': 2, 'chicken': 1}\n"
     ]
    }
   ],
   "source": [
    "my_groceries_hash = {'tortillas':1, 'plantains':5, 'chicken':1}\n",
    "my_groceries_hash[0] = 'corn tortillas'\n",
    "print(my_groceries_hash)\n",
    "my_groceries_hash.pop(\"plantains\")\n",
    "print(my_groceries_hash)\n",
    "my_groceries_hash['cilantro'] = 2\n",
    "print(my_groceries_hash)"
   ]
  },
  {
   "cell_type": "markdown",
   "metadata": {
    "slideshow": {
     "slide_type": "slide"
    }
   },
   "source": [
    "### Combining things to do things!\n",
    "\n",
    "Python has various ways to chain logic together as well.\n",
    "\n",
    "We've got the basics of control flow with `if` statements:\n",
    "\n",
    "```\n",
    "if you_all is having_fun:\n",
    "    print(\"YAYYY\"\n",
    "else:\n",
    "    print(\"BOOO!\")\n",
    "```\n",
    "\n",
    "You can rewrite `if` statements into one line, should you like but that generally is seen as not very Pythonic. \n",
    "```\n",
    "msg = \"YAYYY\" if you_all is having_fun else \"BOOO!\"\n",
    "```"
   ]
  },
  {
   "cell_type": "markdown",
   "metadata": {
    "slideshow": {
     "slide_type": "slide"
    }
   },
   "source": [
    "### Iterating in Python\n",
    "\n",
    "\n",
    "Looping is pretty straight forward too:\n",
    "```\n",
    "random_things = [1,\"boooo\",\"moooo\",\"foooo\", 9123, [1,23]]\n",
    "for thing in random_things:\n",
    "    print(thing)\n",
    "\n",
    "count = 0\n",
    "while count < len(random_things):\n",
    "    print(random_things[count])\n",
    "    count += 1\n",
    "```"
   ]
  },
  {
   "cell_type": "markdown",
   "metadata": {
    "slideshow": {
     "slide_type": "slide"
    }
   },
   "source": [
    "### TODO: Try this!\n",
    "\n",
    "Try typing the following:\n",
    "\n",
    "```\n",
    "example_list = [1,2,3]\n",
    "for number in example_list:\n",
    "print(number)\n",
    "```"
   ]
  },
  {
   "cell_type": "markdown",
   "metadata": {
    "slideshow": {
     "slide_type": "subslide"
    }
   },
   "source": [
    "### White Space, it matters!\n",
    "\n",
    "[![Ah ah ah](https://img.youtube.com/vi/RfiQYRn7fBg/0.jpg)](https://www.youtube.com/watch?v=RfiQYRn7fBg&t=15s) \n",
    "\n",
    "*Note: The [eternal tab vs. space debate](https://www.python.org/dev/peps/pep-0008/#tabs-or-spaces) paraphrased - pick one and use it, don't mix :D!*"
   ]
  },
  {
   "cell_type": "markdown",
   "metadata": {
    "slideshow": {
     "slide_type": "slide"
    }
   },
   "source": [
    "<br>\n",
    "<h1 style=\"text-align: center\">Your turn. Write a Python program in your text editor that allows a user to specify input to add items to a grocery list. Ask the user for 5 items to add to the list, quantites are optional. When done print the list out.</h1>\n",
    "<h2 style=\"text-align: center\">Hint: You can use the <a href='http://www.python-course.eu/python3_input.php'>input</a> function to get user input.</h2>\n",
    "<br>"
   ]
  },
  {
   "cell_type": "code",
   "execution_count": null,
   "metadata": {
    "collapsed": false,
    "slideshow": {
     "slide_type": "subslide"
    }
   },
   "outputs": [],
   "source": [
    "count = 0\n",
    "grocery_list = []\n",
    "while count < 5:\n",
    "    item = input(\"Add an item to list: \")\n",
    "    grocery_list.append(item)\n",
    "    count += 1\n",
    "print(grocery_list)"
   ]
  },
  {
   "cell_type": "markdown",
   "metadata": {
    "slideshow": {
     "slide_type": "slide"
    }
   },
   "source": [
    "### List Comprehensions, an example of the Pythonic way\n",
    "\n",
    "What does it mean to be \"Pythonic\"? Let's take a list at a list comprehension to get a feel for it:"
   ]
  },
  {
   "cell_type": "code",
   "execution_count": null,
   "metadata": {
    "collapsed": true,
    "slideshow": {
     "slide_type": "fragment"
    }
   },
   "outputs": [],
   "source": [
    "bag_of_words = [\"hello\", \"happy\", \"hippo\", \"hungry\", \"human\", \"mammal\"]\n",
    "bag_of_words = [word for word in bag_of_words if \"h\" in word]  # In place filtering\n",
    "bag_of_words = list(filter(lambda word: \"h\" in word, bag_of_words))  # Yes, there is some functionalish programming elements in Python"
   ]
  },
  {
   "cell_type": "markdown",
   "metadata": {
    "slideshow": {
     "slide_type": "slide"
    }
   },
   "source": [
    "<br>\n",
    "<h1 style=\"text-align: center\">TODO: Your turn. Filter items out of your grocery list, you pick what to filter on! </h1>\n",
    "<br>"
   ]
  },
  {
   "cell_type": "code",
   "execution_count": null,
   "metadata": {
    "collapsed": true,
    "slideshow": {
     "slide_type": "subslide"
    }
   },
   "outputs": [],
   "source": [
    "grocery_list = ['cereal', 'milk', 'bread']\n",
    "grocery_list = list(filter(lambda item: len(item) > 4, grocery_list))"
   ]
  },
  {
   "cell_type": "markdown",
   "metadata": {
    "slideshow": {
     "slide_type": "slide"
    }
   },
   "source": [
    "### Handling Errors\n",
    "\n",
    "Remember when we talked about error messages like `TypeError`? In Python we can handle errors with a `try`/ `except` clause.\n",
    "\n",
    "**What do you think this code does?**\n",
    "\n",
    "```\n",
    "numbers = [1,2,3,'4.0']\n",
    "sum = 0\n",
    "\n",
    "for index, number in enumerate(numbers):\n",
    "    try:\n",
    "        sum += number\n",
    "    except TypeError:\n",
    "        print('TypeError on index {}'.format(index))\n",
    "        continue\n",
    "print(sum)\n",
    "````\n"
   ]
  },
  {
   "cell_type": "markdown",
   "metadata": {
    "slideshow": {
     "slide_type": "subslide"
    }
   },
   "source": [
    "<br>\n",
    "<h1 style=\"text-align: center\">TODO: Your turn. Write your own `try` / `except` clause that converts a user's input into a `int`. What `str` values are you allowed to convert into an `int`? Add this to your grocery list code! </h1>\n",
    "<br>"
   ]
  },
  {
   "cell_type": "code",
   "execution_count": null,
   "metadata": {
    "collapsed": true,
    "slideshow": {
     "slide_type": "subslide"
    }
   },
   "outputs": [],
   "source": [
    "user_input_as_int = None\n",
    "try:\n",
    "    user_input = input(\"Give me input to turn into an int: \")\n",
    "    user_input_as_int = int(user_input)\n",
    "except ValueError:\n",
    "    print('ValueError on input {}'.format(user_input))\n",
    "print(user_input_as_int)"
   ]
  },
  {
   "cell_type": "markdown",
   "metadata": {
    "slideshow": {
     "slide_type": "slide"
    }
   },
   "source": [
    "### Finally, a Python function\n",
    "\n",
    "We can create them by using the `def` keyword. For example:\n",
    "    \n",
    "```\n",
    "def say_hello(name)\n",
    "    return \"Hello \" + name\n",
    "\n",
    "print(say_hello(\"Lorena\"))  # To use my function, I have to call it!\n",
    "````\n",
    "\n",
    "A function can have multiple parameters (comma separated) and like variable names we use alphanumeric characters with snake_case for our function names. \n",
    "\n",
    "**Important: We have to use an explicit return to get a value back, otherwise what is returned? Try removing the return from the above code snippet and see what happens!**"
   ]
  },
  {
   "cell_type": "markdown",
   "metadata": {
    "slideshow": {
     "slide_type": "slide"
    }
   },
   "source": [
    "<br>\n",
    "<h1 style=\"text-align: center\">TODO: Your turn. Refactor your code to have the following functions: function to create a list, function to add items to list, function to print your list. </h1>\n",
    "<br>"
   ]
  },
  {
   "cell_type": "code",
   "execution_count": null,
   "metadata": {
    "collapsed": true,
    "slideshow": {
     "slide_type": "subslide"
    }
   },
   "outputs": [],
   "source": [
    "def create_list():\n",
    "    return list()\n",
    "\n",
    "def add_item_to_list(item, my_list):\n",
    "    my_list.append(item)\n",
    "    return my_list\n",
    "\n",
    "def print_list(my_list):\n",
    "    for item in my_list:\n",
    "        print(\"Item: {}\".format(item))\n",
    "        \n",
    "count = 0\n",
    "grocery_list = create_list()\n",
    "while count < 5:\n",
    "    item = input(\"Add an item to list: \")\n",
    "    grocery_list = add_item_to_list(item, grocery_list)\n",
    "    count += 1\n",
    "print_list(grocery_list)"
   ]
  },
  {
   "cell_type": "markdown",
   "metadata": {
    "slideshow": {
     "slide_type": "slide"
    }
   },
   "source": [
    "#### Creating your own Python classes\n",
    "\n",
    "We can create our own type of Python objects. We do that by creating a new class. The syntax is as follows:\n",
    "\n",
    "```\n",
    "class MyFancyThing(object):\n",
    "\n",
    "    def __init__(self, prop1, prop2):\n",
    "        self.prop1 = prop1\n",
    "        self.prop2 = prop2\n",
    "    \n",
    "    def see_properties(self):\n",
    "        return [self.prop1, self.prop2]\n",
    "```\n",
    "\n",
    "- We first have to name the class, here we use CamelCase.\n",
    "- Then we want to specify any properties we want our object to have for the initialize method\n",
    "- Lastly we can add any methods (behaviors) we want on the object\n",
    "\n",
    "```\n",
    "my_fancy_thing = MyFancyThing(\"property 1\", \"property 2\")\n",
    "my_fancy_thing.see_properties\n",
    "```"
   ]
  },
  {
   "cell_type": "markdown",
   "metadata": {
    "collapsed": true,
    "slideshow": {
     "slide_type": "slide"
    }
   },
   "source": [
    "<br>\n",
    "<h1 style=\"text-align: center\">TODO: Your turn. Refactor your code include a GroceryItem class. </h1>\n",
    "<br>"
   ]
  },
  {
   "cell_type": "code",
   "execution_count": null,
   "metadata": {
    "collapsed": true,
    "slideshow": {
     "slide_type": "subslide"
    }
   },
   "outputs": [],
   "source": [
    "class GroceryItem(object):\n",
    "    def __init__(self, name):\n",
    "        self.name = name\n",
    "    \n",
    "    def name(self):\n",
    "        return \"Item name is: {}\".format(self.name)\n",
    "\n",
    "def create_list():\n",
    "    return list()\n",
    "\n",
    "def add_item_to_list(item, my_list):\n",
    "    my_list.append(item)\n",
    "    return my_list\n",
    "\n",
    "def print_list(my_list):\n",
    "    for item in my_list:\n",
    "        print(item.name)\n",
    "        \n",
    "count = 0\n",
    "grocery_list = create_list()\n",
    "while count < 5:\n",
    "    item = GroceryItem(input(\"Add an item to list: \"))\n",
    "    grocery_list = add_item_to_list(item, grocery_list)\n",
    "    count += 1\n",
    "print_list(grocery_list)"
   ]
  },
  {
   "cell_type": "markdown",
   "metadata": {
    "slideshow": {
     "slide_type": "slide"
    }
   },
   "source": [
    "### Lastly ... The Zen of Python\n",
    "\n",
    "\n",
    "```\n",
    "The Zen of Python, by Tim Peters\n",
    "\n",
    "Beautiful is better than ugly.\n",
    "Explicit is better than implicit.\n",
    "Simple is better than complex.\n",
    "Complex is better than complicated.\n",
    "Flat is better than nested.\n",
    "Sparse is better than dense.\n",
    "Readability counts.\n",
    "Special cases aren't special enough to break the rules.\n",
    "Although practicality beats purity.\n",
    "Errors should never pass silently.\n",
    "Unless explicitly silenced.\n",
    "In the face of ambiguity, refuse the temptation to guess.\n",
    "There should be one-- and preferably only one --obvious way to do it.\n",
    "Although that way may not be obvious at first unless you're Dutch.\n",
    "Now is better than never.\n",
    "Although never is often better than *right* now.\n",
    "If the implementation is hard to explain, it's a bad idea.\n",
    "If the implementation is easy to explain, it may be a good idea.\n",
    "Namespaces are one honking great idea -- let's do more of those!\n",
    "````\n",
    "\n"
   ]
  },
  {
   "cell_type": "markdown",
   "metadata": {
    "slideshow": {
     "slide_type": "slide"
    }
   },
   "source": [
    "### Python Keywords\n",
    "\n",
    "Keywords like `continue` are special reserved symbols. These symbols perform a specific action. Examples of keywords we've seen so far include:\n",
    "\n",
    "- `if`\n",
    "- `print`\n",
    "- `while`\n",
    "- `return`\n",
    "\n",
    "For a comprehensive list of Python keywords you can read [here](https://learnpythonthehardway.org/book/ex37.html).\n",
    "\n",
    "** How else could we get a list of Python keywords?**"
   ]
  },
  {
   "cell_type": "markdown",
   "metadata": {
    "collapsed": true,
    "slideshow": {
     "slide_type": "subslide"
    }
   },
   "source": [
    "#### Let's get to it then, Python Modules\n",
    "\n",
    "To get a list of all your Python modules installed you can use the `help(\"modules\")` command in a Python REPL (Read-Eval-Print-Loop/ CLI interpreter).\n",
    "\n",
    "If you'd like to see functions within a module you can use `help(\"module_name\")` if you haven't `import`ed the Python module yet.  \n",
    "\n",
    "Want to know all the reserved keywords in Python? There's a module for that!\n"
   ]
  },
  {
   "cell_type": "code",
   "execution_count": 1,
   "metadata": {
    "collapsed": false,
    "slideshow": {
     "slide_type": "fragment"
    }
   },
   "outputs": [
    {
     "data": {
      "text/plain": [
       "True"
      ]
     },
     "execution_count": 1,
     "metadata": {},
     "output_type": "execute_result"
    }
   ],
   "source": [
    "import keyword\n",
    "all_keywords = keyword.kwlist\n",
    "keyword.iskeyword(\"and\")\n"
   ]
  },
  {
   "cell_type": "markdown",
   "metadata": {
    "slideshow": {
     "slide_type": "slide"
    }
   },
   "source": [
    "##### Demo time!\n",
    "\n",
    "<br>\n",
    "<br>\n",
    "<br>\n",
    "\n",
    "<img src='http://www.prism.gatech.edu/~aclegg3/DemoTimeImages/DemoTimeTitle.png' style='display: block;\n",
    "    margin: 0 auto;'/>\n",
    "    "
   ]
  },
  {
   "cell_type": "markdown",
   "metadata": {
    "slideshow": {
     "slide_type": "slide"
    }
   },
   "source": [
    "#### Want to continue learning?\n",
    "\n",
    "Try:\n",
    "    - [Hitchhikers Guide to Python](http://docs.python-guide.org/en/latest/) (or the [book](http://shop.oreilly.com/product/0636920042921.do))\n",
    "    - [Learn Python the Hard Way](http://learnpythonthehardway.org/book/)\n",
    "    - Your local [PyLadies](http://pyladies.com) or [Python User Group](https://wiki.python.org/moin/LocalUserGroups)!\n",
    "\n",
    "\n",
    "### Questions? Tweet me @loooorenanicole!\n"
   ]
  }
 ],
 "metadata": {
  "celltoolbar": "Slideshow",
  "kernelspec": {
   "display_name": "Python 3",
   "language": "python",
   "name": "python3"
  },
  "language_info": {
   "codemirror_mode": {
    "name": "ipython",
    "version": 3
   },
   "file_extension": ".py",
   "mimetype": "text/x-python",
   "name": "python",
   "nbconvert_exporter": "python",
   "pygments_lexer": "ipython3",
   "version": "3.5.2"
  }
 },
 "nbformat": 4,
 "nbformat_minor": 1
}
